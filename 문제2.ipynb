{
 "cells": [
  {
   "cell_type": "code",
   "execution_count": 6,
   "metadata": {},
   "outputs": [],
   "source": [
    "import pandas as pd\n",
    "\n",
    "filePath = r'고등교육기관 주소록(2024.4.1.).xlsx'\n",
    "df_from_excel = pd.read_excel(filePath,engine='openpyxl')\n",
    "\n",
    "df_from_excel.columns = df_from_excel.loc[4].tolist()\n",
    "\n",
    "df_from_excel = df_from_excel.drop(index=list(range(0,5)))"
   ]
  },
  {
   "cell_type": "code",
   "execution_count": 4,
   "metadata": {},
   "outputs": [],
   "source": [
    "import folium\n",
    "\n",
    "map = folium.Map(location=[37,127],zoom_start=7)\n",
    "\n",
    "marker = folium.Marker([35.182955197, 126.878670165],\n",
    "                    popup='한국폴리텍V대학 광주캠퍼스', \n",
    "                    icon = folium.Icon(color='pink'))\n",
    "\n",
    "marker.add_to(map) \n",
    "\n",
    "map.save(r'한국폴리텍대학 광주캠퍼스.html')"
   ]
  },
  {
   "cell_type": "code",
   "execution_count": null,
   "metadata": {},
   "outputs": [],
   "source": []
  }
 ],
 "metadata": {
  "kernelspec": {
   "display_name": "Python 3",
   "language": "python",
   "name": "python3"
  },
  "language_info": {
   "codemirror_mode": {
    "name": "ipython",
    "version": 3
   },
   "file_extension": ".py",
   "mimetype": "text/x-python",
   "name": "python",
   "nbconvert_exporter": "python",
   "pygments_lexer": "ipython3",
   "version": "3.12.2"
  }
 },
 "nbformat": 4,
 "nbformat_minor": 2
}
