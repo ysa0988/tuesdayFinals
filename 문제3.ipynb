{
 "cells": [
  {
   "cell_type": "code",
   "execution_count": 3,
   "metadata": {},
   "outputs": [],
   "source": [
    "import pandas as pd\n",
    "import folium\n",
    "\n",
    "file_path = \"지역별 폭염일수.xlsx\"\n",
    "\n",
    "data = pd.read_excel(file_path)\n",
    "\n",
    "mymap = folium.Map(location=[36.5, 127.5], zoom_start=7)\n",
    "\n",
    "# 데이터 기반으로 마커 추가\n",
    "for _, row in data.iterrows():\n",
    "    latitude = float(row['위도'])  \n",
    "    longitude = float(row['경도']) \n",
    "    region = row['이름']      \n",
    "    heatwave_days = row['폭염일수'] \n",
    "\n",
    "    folium.Marker(\n",
    "        location=[latitude, longitude],\n",
    "        popup=f\"{region}\\n폭염일수: {heatwave_days}일\",\n",
    "        tooltip=f\"{region} ({heatwave_days}일)\",\n",
    "        icon=folium.Icon(color='red' if heatwave_days > 10 else 'orange', icon='info-sign')\n",
    "    ).add_to(mymap)\n",
    "\n",
    "mymap.save(\"폭염 일수 시각화.html\")\n"
   ]
  },
  {
   "cell_type": "code",
   "execution_count": null,
   "metadata": {},
   "outputs": [],
   "source": []
  }
 ],
 "metadata": {
  "kernelspec": {
   "display_name": "Python 3",
   "language": "python",
   "name": "python3"
  },
  "language_info": {
   "codemirror_mode": {
    "name": "ipython",
    "version": 3
   },
   "file_extension": ".py",
   "mimetype": "text/x-python",
   "name": "python",
   "nbconvert_exporter": "python",
   "pygments_lexer": "ipython3",
   "version": "3.12.2"
  }
 },
 "nbformat": 4,
 "nbformat_minor": 2
}
