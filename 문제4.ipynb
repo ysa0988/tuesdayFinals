{
 "cells": [
  {
   "cell_type": "code",
   "execution_count": 3,
   "metadata": {},
   "outputs": [
    {
     "name": "stdout",
     "output_type": "stream",
     "text": [
      "Collecting qrcode\n",
      "  Downloading qrcode-8.0-py3-none-any.whl.metadata (17 kB)\n",
      "Requirement already satisfied: colorama in c:\\users\\mac015\\appdata\\roaming\\python\\python312\\site-packages (from qrcode) (0.4.6)\n",
      "Downloading qrcode-8.0-py3-none-any.whl (45 kB)\n",
      "   ---------------------------------------- 0.0/45.7 kB ? eta -:--:--\n",
      "   -------------------------- ------------- 30.7/45.7 kB 660.6 kB/s eta 0:00:01\n",
      "   ---------------------------------------- 45.7/45.7 kB 454.7 kB/s eta 0:00:00\n",
      "Installing collected packages: qrcode\n",
      "Successfully installed qrcode-8.0\n"
     ]
    },
    {
     "name": "stderr",
     "output_type": "stream",
     "text": [
      "\n",
      "[notice] A new release of pip is available: 24.0 -> 24.3.1\n",
      "[notice] To update, run: python.exe -m pip install --upgrade pip\n"
     ]
    }
   ],
   "source": [
    "!pip install qrcode"
   ]
  },
  {
   "cell_type": "markdown",
   "metadata": {},
   "source": [
    "import qrcode\n",
    "\n",
    "# QR 코드에 넣을 URL\n",
    "url = \"https://github.com/ysa0988/tuesdayFinals\"\n",
    "\n",
    "# QR 코드 생성\n",
    "qr = qrcode.QRCode(\n",
    "    version=1,  # QR 코드 크기 (1: 21x21, 2: 25x25, ...)\n",
    "    error_correction=qrcode.constants.ERROR_CORRECT_L,  # 오류 보정 수준 (L, M, Q, H)\n",
    "    box_size=10,  # QR 코드 박스 크기\n",
    "    border=4,  # 경계 두께\n",
    ")\n",
    "\n",
    "qr.add_data(url)  # URL 추가\n",
    "qr.make(fit=True)  # 데이터에 맞게 QR 코드 크기 조정\n",
    "\n",
    "# QR 코드 이미지를 생성\n",
    "img = qr.make_image(fill_color=\"black\", back_color=\"white\")\n",
    "\n",
    "# QR 코드 저장\n",
    "img.save(\"github_qrcode.png\")\n"
   ]
  },
  {
   "cell_type": "code",
   "execution_count": 5,
   "metadata": {},
   "outputs": [],
   "source": [
    "import qrcode\n",
    "\n",
    "url = \"https://github.com/ysa0988/tuesdayFinals\"\n",
    "\n",
    "qr = qrcode.QRCode(\n",
    "    version=1,  \n",
    "    error_correction=qrcode.constants.ERROR_CORRECT_L,\n",
    "    box_size=10,\n",
    "    border=4,\n",
    ")\n",
    "\n",
    "qr.add_data(url) \n",
    "qr.make(fit=True) \n",
    "\n",
    "img = qr.make_image(fill_color=\"black\", back_color=\"white\")\n",
    "img.save(\"선아 기말.png\")\n"
   ]
  },
  {
   "cell_type": "code",
   "execution_count": null,
   "metadata": {},
   "outputs": [],
   "source": []
  }
 ],
 "metadata": {
  "kernelspec": {
   "display_name": "Python 3",
   "language": "python",
   "name": "python3"
  },
  "language_info": {
   "codemirror_mode": {
    "name": "ipython",
    "version": 3
   },
   "file_extension": ".py",
   "mimetype": "text/x-python",
   "name": "python",
   "nbconvert_exporter": "python",
   "pygments_lexer": "ipython3",
   "version": "3.12.2"
  }
 },
 "nbformat": 4,
 "nbformat_minor": 2
}
