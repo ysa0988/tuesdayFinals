{
 "cells": [
  {
   "cell_type": "code",
   "execution_count": 1,
   "metadata": {},
   "outputs": [],
   "source": [
    "import pandas as pd\n",
    "import requests\n",
    "from openpyxl import load_workbook\n",
    "from openpyxl import Workbook\n",
    "import re\n",
    "\n",
    "\n",
    "filePath = r'고등교육기관 주소록(2024.4.1.).xlsx'\n",
    "df_from_excel = pd.read_excel(filePath,engine='openpyxl')\n",
    "df_from_excel.columns = df_from_excel.loc[4].tolist()\n",
    "df_from_excel = df_from_excel.drop(index=list(range(0,5)))\n",
    "\n",
    "\n",
    "url = 'http://api.vworld.kr/req/address?'\n",
    "params = 'service=address&request=getcoord&version=2.0&crs=epsg:4326&refine=true&simple=false&format=json&type='\n",
    "road_type = 'ROAD'\n",
    "road_type2 = 'PARCEL'\n",
    "address = '&address='\n",
    "keys = '&key='\n",
    "primary_key = '2A645740-77BD-380B-81D8-8AB51C078AB8'\n",
    "\n",
    "def request_geo(road):\n",
    "    page = requests.get(url+params+road_type+address+road+keys+primary_key)\n",
    "    json_data = page.json()\n",
    "    if json_data['response']['status'] == 'OK':\n",
    "        x = json_data['response']['result']['point']['x']\n",
    "        y = json_data['response']['result']['point']['y']\n",
    "        return x,y\n",
    "    else:\n",
    "        x = 0\n",
    "        y = 0\n",
    "        return x,y\n",
    "\n",
    "\n",
    "try:\n",
    "    wb = load_workbook(r\"학교주소좌표.xlsx\", data_only=True)\n",
    "    sheet  = wb.active\n",
    "except:\n",
    "    wb = Workbook()\n",
    "    sheet = wb.active\n",
    "\n",
    "university_list = df_from_excel['학교명'].to_list()\n",
    "address_list = df_from_excel['주소'].to_list()\n",
    "\n",
    "for num,value in enumerate(address_list):\n",
    "    addr = re.sub(r'\\([^)]*\\)', '', value)\n",
    "    x,y = request_geo(addr)\n",
    "    sheet.append([university_list[num],addr,x,y])\n",
    "\n",
    "wb.save(r\"학교주소좌표.xlsx\")"
   ]
  },
  {
   "cell_type": "code",
   "execution_count": 3,
   "metadata": {},
   "outputs": [],
   "source": []
  },
  {
   "cell_type": "code",
   "execution_count": null,
   "metadata": {},
   "outputs": [],
   "source": []
  }
 ],
 "metadata": {
  "kernelspec": {
   "display_name": "Python 3",
   "language": "python",
   "name": "python3"
  },
  "language_info": {
   "codemirror_mode": {
    "name": "ipython",
    "version": 3
   },
   "file_extension": ".py",
   "mimetype": "text/x-python",
   "name": "python",
   "nbconvert_exporter": "python",
   "pygments_lexer": "ipython3",
   "version": "3.12.2"
  }
 },
 "nbformat": 4,
 "nbformat_minor": 2
}
